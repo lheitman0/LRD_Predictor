{
 "cells": [
  {
   "cell_type": "code",
   "execution_count": 6,
   "metadata": {},
   "outputs": [
    {
     "data": {
      "text/html": [
       "<div>\n",
       "<style scoped>\n",
       "    .dataframe tbody tr th:only-of-type {\n",
       "        vertical-align: middle;\n",
       "    }\n",
       "\n",
       "    .dataframe tbody tr th {\n",
       "        vertical-align: top;\n",
       "    }\n",
       "\n",
       "    .dataframe thead th {\n",
       "        text-align: right;\n",
       "    }\n",
       "</style>\n",
       "<table border=\"1\" class=\"dataframe\">\n",
       "  <thead>\n",
       "    <tr style=\"text-align: right;\">\n",
       "      <th></th>\n",
       "      <th>price_final</th>\n",
       "      <th>model_type</th>\n",
       "      <th>model_variant_final</th>\n",
       "      <th>ext_color_final</th>\n",
       "      <th>mileage_final</th>\n",
       "      <th>age</th>\n",
       "      <th>originality_final</th>\n",
       "    </tr>\n",
       "  </thead>\n",
       "  <tbody>\n",
       "    <tr>\n",
       "      <th>0</th>\n",
       "      <td>49990.0</td>\n",
       "      <td>Land Rover Defender 90</td>\n",
       "      <td>90 Hard Top</td>\n",
       "      <td>Gray</td>\n",
       "      <td>0.000000e+00</td>\n",
       "      <td>33</td>\n",
       "      <td>Restored-Modified</td>\n",
       "    </tr>\n",
       "    <tr>\n",
       "      <th>1</th>\n",
       "      <td>91500.0</td>\n",
       "      <td>NAS 5-Speed</td>\n",
       "      <td>90 Soft Top</td>\n",
       "      <td>Green</td>\n",
       "      <td>6.300000e+04</td>\n",
       "      <td>28</td>\n",
       "      <td>Original &amp; Highly Original</td>\n",
       "    </tr>\n",
       "    <tr>\n",
       "      <th>2</th>\n",
       "      <td>88995.0</td>\n",
       "      <td>5-Speed</td>\n",
       "      <td>110 Hard Top</td>\n",
       "      <td>Blue</td>\n",
       "      <td>1.560010e+10</td>\n",
       "      <td>31</td>\n",
       "      <td>Restored-Modified</td>\n",
       "    </tr>\n",
       "    <tr>\n",
       "      <th>3</th>\n",
       "      <td>57999.0</td>\n",
       "      <td>300TDI 5-Speed</td>\n",
       "      <td>110 Wagon</td>\n",
       "      <td>Blue</td>\n",
       "      <td>1.733625e+05</td>\n",
       "      <td>27</td>\n",
       "      <td>Restored-Original</td>\n",
       "    </tr>\n",
       "    <tr>\n",
       "      <th>4</th>\n",
       "      <td>112000.0</td>\n",
       "      <td>5-Speed</td>\n",
       "      <td>90 Soft Top</td>\n",
       "      <td>Black</td>\n",
       "      <td>1.030000e+05</td>\n",
       "      <td>29</td>\n",
       "      <td>Restored-Original</td>\n",
       "    </tr>\n",
       "  </tbody>\n",
       "</table>\n",
       "</div>"
      ],
      "text/plain": [
       "   price_final              model_type model_variant_final ext_color_final  \\\n",
       "0      49990.0  Land Rover Defender 90         90 Hard Top            Gray   \n",
       "1      91500.0             NAS 5-Speed         90 Soft Top           Green   \n",
       "2      88995.0                 5-Speed        110 Hard Top            Blue   \n",
       "3      57999.0          300TDI 5-Speed           110 Wagon            Blue   \n",
       "4     112000.0                 5-Speed         90 Soft Top           Black   \n",
       "\n",
       "   mileage_final  age           originality_final  \n",
       "0   0.000000e+00   33           Restored-Modified  \n",
       "1   6.300000e+04   28  Original & Highly Original  \n",
       "2   1.560010e+10   31           Restored-Modified  \n",
       "3   1.733625e+05   27           Restored-Original  \n",
       "4   1.030000e+05   29           Restored-Original  "
      ]
     },
     "execution_count": 6,
     "metadata": {},
     "output_type": "execute_result"
    }
   ],
   "source": [
    "import pandas as pd\n",
    "\n",
    "defender_data = pd.read_csv('data/LRD_data.csv')\n",
    "defender_data.head()"
   ]
  },
  {
   "cell_type": "markdown",
   "metadata": {},
   "source": [
    "Handling some issues with mileage\n",
    "--- Problems ---\n",
    "1) Null, 0 vals --> del\n",
    "2) Scraped and concactenated km + miles --> 15600096934 --> 156k km == 96k miles so change to 96,934 \n",
    "3) Added decimal val --> 173362.509 should just be 173362 miles"
   ]
  },
  {
   "cell_type": "code",
   "execution_count": 30,
   "metadata": {},
   "outputs": [],
   "source": [
    "def kmmiles_to_miles(mileage):\n",
    "    mileage = str(int(mileage))\n",
    "    m_len = len(mileage)\n",
    "\n",
    "    if m_len<6:\n",
    "        raise ValueError(\"int too small\")\n",
    "    elif m_len==6:\n",
    "        new_mileage = int(mileage[3:])\n",
    "    elif m_len==7 or m_len==8:\n",
    "        new_mileage= int(mileage[4:])\n",
    "    elif m_len == 9 or m_len==10:\n",
    "        new_mileage = int(mileage[5:])\n",
    "    elif m_len==11 or m_len==12:\n",
    "        new_mileage = int(mileage[6:])\n",
    "    else:\n",
    "        raise ValueError(\"format not recognized\")\n",
    "    return new_mileage"
   ]
  },
  {
   "cell_type": "code",
   "execution_count": 33,
   "metadata": {},
   "outputs": [
    {
     "name": "stdout",
     "output_type": "stream",
     "text": [
      "15600096934.0\n"
     ]
    },
    {
     "ename": "NameError",
     "evalue": "name 'new_mileage' is not defined",
     "output_type": "error",
     "traceback": [
      "\u001b[0;31m---------------------------------------------------------------------------\u001b[0m",
      "\u001b[0;31mNameError\u001b[0m                                 Traceback (most recent call last)",
      "Cell \u001b[0;32mIn[33], line 8\u001b[0m\n\u001b[1;32m      5\u001b[0m     \u001b[38;5;28;01mexcept\u001b[39;00m \u001b[38;5;167;01mValueError\u001b[39;00m:\n\u001b[1;32m      6\u001b[0m         \u001b[38;5;28mprint\u001b[39m(mileage)\n\u001b[0;32m----> 8\u001b[0m     defender_data\u001b[38;5;241m.\u001b[39mat[i, \u001b[38;5;124m'\u001b[39m\u001b[38;5;124mmileage_final\u001b[39m\u001b[38;5;124m'\u001b[39m] \u001b[38;5;241m=\u001b[39m \u001b[43mnew_mileage\u001b[49m\n\u001b[1;32m      9\u001b[0m \u001b[38;5;28;01melif\u001b[39;00m pd\u001b[38;5;241m.\u001b[39misna(mileage) \u001b[38;5;129;01mor\u001b[39;00m mileage \u001b[38;5;241m==\u001b[39m \u001b[38;5;241m0\u001b[39m:  \n\u001b[1;32m     10\u001b[0m     defender_data\u001b[38;5;241m.\u001b[39mat[i, \u001b[38;5;124m'\u001b[39m\u001b[38;5;124mmileage_final\u001b[39m\u001b[38;5;124m'\u001b[39m] \u001b[38;5;241m=\u001b[39m \u001b[38;5;28;01mNone\u001b[39;00m\n",
      "\u001b[0;31mNameError\u001b[0m: name 'new_mileage' is not defined"
     ]
    }
   ],
   "source": [
    "for i, mileage in enumerate(defender_data['mileage_final']):\n",
    "    if mileage > 500000:  # Handling concatenated km + miles\n",
    "        try:\n",
    "            new_mileage = kmmiles_to_miles(mileage)\n",
    "        except ValueError:\n",
    "            print(mileage)\n",
    "        \n",
    "        defender_data.at[i, 'mileage_final'] = new_mileage\n",
    "    elif pd.isna(mileage) or mileage == 0:  \n",
    "        defender_data.at[i, 'mileage_final'] = None\n",
    "    else:\n",
    "        defender_data.at[i, 'mileage_final'] = round(mileage)\n",
    "\n",
    "defender_data.dropna(subset=['mileage_final'], inplace=True)\n",
    "defender_data.head()"
   ]
  }
 ],
 "metadata": {
  "kernelspec": {
   "display_name": "lrd",
   "language": "python",
   "name": "python3"
  },
  "language_info": {
   "codemirror_mode": {
    "name": "ipython",
    "version": 3
   },
   "file_extension": ".py",
   "mimetype": "text/x-python",
   "name": "python",
   "nbconvert_exporter": "python",
   "pygments_lexer": "ipython3",
   "version": "3.11.2"
  }
 },
 "nbformat": 4,
 "nbformat_minor": 2
}
