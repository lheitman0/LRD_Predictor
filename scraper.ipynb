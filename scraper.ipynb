{
 "cells": [
  {
   "attachments": {},
   "cell_type": "markdown",
   "metadata": {},
   "source": [
    "# This code no longer works because the html of classic.com was changed on Tuesday, April 25, 2023. With that said, this code is how I captured all of the considered data in my model "
   ]
  },
  {
   "cell_type": "markdown",
   "metadata": {
    "scrolled": true
   },
   "source": [
    "# Adding sold listings\n"
   ]
  },
  {
   "cell_type": "code",
   "execution_count": 22,
   "metadata": {},
   "outputs": [
    {
     "name": "stderr",
     "output_type": "stream",
     "text": [
      "100%|██████████| 1/1 [00:00<00:00,  3.41it/s]"
     ]
    },
    {
     "name": "stdout",
     "output_type": "stream",
     "text": [
      "<div class=\"container\">\n",
      "<div>\n",
      "<div class=\"modal-wrapper hidden\" phx-key=\"Escape\" phx-window-keydown='[[\"push\",{\"event\":\"close_modal\",\"target\":2}]]'>\n",
      "<div class=\"modal-backdrop\" phx-click='[[\"push\",{\"event\":\"close_modal\",\"target\":2}]]'></div>\n",
      "<div class=\"modal w-full max-w-full max-h-full sm:max-w-[448px] sm:max-h-[80%] sm:h-auto h-full\" id=\"auth_modal\">\n",
      "<i class=\"material-icons close text-black\" phx-click='[[\"push\",{\"event\":\"close_modal\",\"target\":2}]]'>close</i>\n",
      "<div class=\"modal-title\">\n",
      "<span class=\"typography-h6 typography-primary-color typography-sm- typography-md- typography-lg- mt-8 block text-center\">\n",
      "        Welcome to CLASSIC.COM\n",
      "      </span>\n",
      "</div>\n",
      "<div class=\"modal-content\">\n",
      "<div class=\"flex flex-col justify-center items-center px-6\">\n",
      "<div class=\"w-full\">\n",
      "<div>\n",
      "<ul class=\"flex justify-around text-base mb-4\">\n",
      "<li class=\"p-2 cursor-pointer is-active border-black border-solid border-b-2 flex-1 text-center\" phx-click='[[\"push\",{\"event\":\"tab_click\",\"target\":9}]]' phx-value-index=\"0\">\n",
      "      LOGIN\n",
      "    </li><li class=\"p-2 cursor-pointer flex-1 text-center\" phx-click='[[\"push\",{\"event\":\"tab_click\",\"target\":9}]]' phx-value-index=\"1\">\n",
      "      SIGN UP\n",
      "    </li>\n",
      "</ul>\n",
      "<section class=\"tab-content\" style=\"overflow: hidden\">\n",
      "<div class=\"tab-item animated faster\">\n",
      "<div class=\"p-0\" id=\"login\">\n",
      "<div class=\"grid-container wrap-wrap h-auto md:flex md:justify-between md:items-start mb-10\">\n",
      "<div class=\"grid-item xs-12 sm-12 md-12 lg-12\">\n",
      "<form action=\"/login\" class=\"mt-4 w-full mb-4\" method=\"post\" phx-change='[[\"push\",{\"event\":\"login.form:validate\",\"target\":12}]]' phx-submit='[[\"push\",{\"event\":\"login.form:submit\",\"target\":12}]]'>\n",
      "<input hidden=\"\" name=\"_method\" type=\"hidden\" value=\"POST\"/>\n",
      "<input hidden=\"\" name=\"_csrf_token\" type=\"hidden\" value=\"Yy4ZEQpbWwMOfUYbX34BHz4RWQQsAW0JPvvKM-1tQ7rH512ZnB-GAuZP\"/>\n",
      "<div>\n",
      "<div class=\"floating-black-input relative mb-4\">\n",
      "<input autocomplete=\"email\" class=\"bg-transparent rounded px-4 placeholder-white-500 logBorder moz-width\" id=\"login_changeset_email\" name=\"login_changeset[email]\" placeholder=\" \" required=\"required\" type=\"text\" value=\"\"/>\n",
      "<label class=\"absolute top-0 left-0 px-3 py-4 h-full pointer-events-none transform origin-left transition-all duration-200 ease-in-out text-sm\" for=\"login_changeset_email\">\n",
      "  Email\n",
      "</label>\n",
      "<br/>\n",
      "</div>\n",
      "</div>\n",
      "<div>\n",
      "<div class=\"floating-black-input relative mb-4\">\n",
      "<input autocomplete=\"current-password\" class=\"bg-transparent rounded px-4 placeholder-white-500 logBorder moz-width\" id=\"login_changeset_password\" name=\"login_changeset[password]\" placeholder=\" \" required=\"required\" type=\"password\" value=\"\"/>\n",
      "<label class=\"absolute top-0 left-0 px-3 py-4 h-full pointer-events-none transform origin-left transition-all duration-200 ease-in-out text-sm\" for=\"login_changeset_password\">\n",
      "  Password\n",
      "</label>\n",
      "<br/>\n",
      "</div>\n",
      "</div>\n",
      "<div>\n",
      "<input id=\"login_changeset_redirect_url\" name=\"login_changeset[redirect_url]\" type=\"hidden\" value=\"/\"/>\n",
      "</div>\n",
      "<div>\n",
      "<input id=\"login_changeset_smart_modal_id\" name=\"login_changeset[smart_modal_id]\" type=\"hidden\" value=\"\"/>\n",
      "</div>\n",
      "<div>\n",
      "<input id=\"login_changeset_open_notification\" name=\"login_changeset[open_notification]\" type=\"hidden\"/>\n",
      "</div>\n",
      "<div>\n",
      "<input id=\"login_changeset_open_notification_flash\" name=\"login_changeset[open_notification_flash]\" type=\"hidden\"/>\n",
      "</div>\n",
      "<div>\n",
      "<input id=\"login_changeset_vehicle_name\" name=\"login_changeset[vehicle_name]\" type=\"hidden\"/>\n",
      "</div>\n",
      "<div class=\"flex md:block flex-1 md:flex-none\" data-event-action=\"account.action.login\" data-event-category=\"account.category\" data-event-label=\"Login Modal\" id=\"modal_login\" phx-hook=\"CFrontWeb.Components.Base.Analytics#Analytics\">\n",
      "<button class=\"waves-effect waves-light relative btn btn- secondary w-full\" phx-disable-with=\"LOGGING IN...\" type=\"submit\">\n",
      "      \n",
      "            LOG IN\n",
      "          \n",
      "    </button>\n",
      "</div>\n",
      "</form>\n",
      "<span class=\"typography-body2 typography-primary-color typography-sm- typography-md- typography-lg- mb-0\">\n",
      "        Don't have an account?\n",
      "        <div class=\"flex md:block flex-1 md:flex-none\" id=\"login_signUp\" phx-hook=\"CFrontWeb.Components.Base.Analytics#Analytics\">\n",
      "<button class=\"bg-transparent p-0\" phx-click='[[\"push\",{\"event\":\"move_tab_register\",\"target\":2}]]' phx-value=\"2\">\n",
      "<span class=\"typography-body2 typography-primary-color typography-sm- typography-md- typography-lg- mb-0 normal-case text_blue hover:underline\">Sign up - It's free!</span>\n",
      "</button>\n",
      "</div>\n",
      "</span>\n",
      "<div>\n",
      "<div class=\"flex md:block flex-1 md:flex-none\" id=\"login_forgotPassword\" phx-hook=\"CFrontWeb.Components.Base.Analytics#Analytics\">\n",
      "<a class=\"typography-body1\" href=\"/account/password/reset/\">\n",
      "<span class=\"typography-body2 typography-primary-color typography-sm- typography-md- typography-lg- hover:underline text_blue\">\n",
      "              Forgot password?\n",
      "            </span>\n",
      "</a>\n",
      "</div>\n",
      "</div>\n",
      "</div>\n",
      "</div>\n",
      "</div>\n",
      "</div><div class=\"tab-item animated faster\" hidden=\"\">\n",
      "<div class=\"p-0\" id=\"register\">\n",
      "<div class=\"grid-container wrap-wrap h-auto md:flex md:justify-between md:items-start mb-10\">\n",
      "<div class=\"grid-item xs-12 sm-12 md-12 lg-12\">\n",
      "<div class=\"my-6\">\n",
      "<span class=\"typography-body2 typography-primary-color typography-sm- typography-md- typography-lg-\">\n",
      "          With your free account you can view the <span class=\"font-medium\">latest comps</span>, save your <span class=\"font-medium\">favorite vehicles</span>, and <span class=\"font-medium\">follow markets</span> to get notified of new listings and sale prices.\n",
      "        </span>\n",
      "</div>\n",
      "<form action=\"/register\" class=\"w-full mb-4\" method=\"post\" phx-change='[[\"push\",{\"event\":\"register.form:validate\",\"target\":13}]]' phx-submit='[[\"push\",{\"event\":\"register.form:submit\",\"target\":13}]]'>\n",
      "<input hidden=\"\" name=\"_method\" type=\"hidden\" value=\"POST\"/>\n",
      "<input hidden=\"\" name=\"_csrf_token\" type=\"hidden\" value=\"Yy4ZEQpbWwMOfUYbX34BHz4RWQQsAW0JPvvKM-1tQ7rH512ZnB-GAuZP\"/>\n",
      "<div>\n",
      "<div class=\"floating-black-input relative mb-4\">\n",
      "<input autocomplete=\"email\" class=\"bg-transparent rounded px-4 placeholder-white-500 logBorder moz-width\" id=\"email\" name=\"register_changeset[email]\" placeholder=\" \" required=\"required\" type=\"email\"/>\n",
      "<label class=\"absolute top-0 left-0 px-3 py-4 h-full pointer-events-none transform origin-left transition-all duration-200 ease-in-out text-sm\" for=\"register_changeset_email\">\n",
      "  Email\n",
      "</label>\n",
      "<br/>\n",
      "</div>\n",
      "</div>\n",
      "<div>\n",
      "<div class=\"floating-black-input relative mb-4\">\n",
      "<input autocomplete=\"new-password\" class=\"bg-transparent rounded px-4 placeholder-white-500 logBorder moz-width\" id=\"register_changeset_password1\" name=\"register_changeset[password1]\" placeholder=\"Enter password\" required=\"required\" type=\"password\"/>\n",
      "<label class=\"absolute top-0 left-0 px-3 py-4 h-full pointer-events-none transform origin-left transition-all duration-200 ease-in-out text-sm\" for=\"register_changeset_password1\">\n",
      "  Password\n",
      "</label>\n",
      "<br/>\n",
      "</div>\n",
      "</div>\n",
      "<div>\n",
      "<div class=\"floating-black-input relative mb-4\">\n",
      "<input autocomplete=\"new-password\" class=\"bg-transparent rounded px-4 placeholder-white-500 logBorder moz-width\" id=\"register_changeset_password2\" name=\"register_changeset[password2]\" placeholder=\"Enter password\" required=\"required\" type=\"password\"/>\n",
      "<label class=\"absolute top-0 left-0 px-3 py-4 h-full pointer-events-none transform origin-left transition-all duration-200 ease-in-out text-sm\" for=\"register_changeset_password2\">\n",
      "  Confirm Password\n",
      "</label>\n",
      "<br/>\n",
      "</div>\n",
      "</div>\n",
      "<div>\n",
      "<input id=\"register_changeset_redirect_url\" name=\"register_changeset[redirect_url]\" type=\"hidden\" value=\"/\"/>\n",
      "</div>\n",
      "<div>\n",
      "<input id=\"register_changeset_smart_modal_id\" name=\"register_changeset[smart_modal_id]\" type=\"hidden\" value=\"\"/>\n",
      "</div>\n",
      "<div class=\"flex md:block flex-1 md:flex-none\" data-event-action=\"account.action.signup\" data-event-category=\"account.category\" data-event-label=\"Register Modal\" data-gtagsendto=\"AW-535955096/f6s7CLGc6uIBEJiNyP8B\" id=\"modal_signUp\" phx-hook=\"CFrontWeb.Components.Base.Analytics#Analytics\">\n",
      "<button class=\"waves-effect waves-light relative btn btn- secondary w-full\" type=\"submit\">\n",
      "<span class=\"typography-body2 typography-#000-color typography-sm- typography-md- typography-lg-body2 font-medium w-full\">SIGN UP - IT'S FREE!</span>\n",
      "</button>\n",
      "</div>\n",
      "</form>\n",
      "<span class=\"typography-body2 typography-primary-color typography-sm- typography-md- typography-lg- mb-0\">\n",
      "        Already have an account?\n",
      "        <div class=\"flex md:block flex-1 md:flex-none\" id=\"signup_login\" phx-hook=\"CFrontWeb.Components.Base.Analytics#Analytics\">\n",
      "<button class=\"bg-transparent p-0\" phx-click='[[\"push\",{\"event\":\"move_tab_login\",\"target\":2}]]'>\n",
      "<span class=\"typography-body2 typography-primary-color typography-sm- typography-md- typography-lg- mb-0 normal-case text_blue hover:underline\">\n",
      "              Log in\n",
      "            </span>\n",
      "</button>\n",
      "</div>\n",
      "</span>\n",
      "</div>\n",
      "</div>\n",
      "</div>\n",
      "</div>\n",
      "</section>\n",
      "</div>\n",
      "</div>\n",
      "</div>\n",
      "</div>\n",
      "</div>\n",
      "</div>\n",
      "</div>\n",
      "</div>\n"
     ]
    },
    {
     "name": "stderr",
     "output_type": "stream",
     "text": [
      "\n"
     ]
    }
   ],
   "source": [
    "import requests\n",
    "from bs4 import BeautifulSoup\n",
    "import pandas as pd\n",
    "from tqdm import trange\n",
    "\n",
    "# Iterate over each page of results\n",
    "urls=[]\n",
    "mileage_urls = []\n",
    "comps_urls = []\n",
    "\n",
    "for page in trange(1):\n",
    "    url=f\"https://www.classic.com/search?filters[driverside]=15&filters[location][]=US&filters[make]=7&filters[model]=13&filters[transmission]=17&q=defender&page={page}\"\n",
    "    response = requests.get(url)\n",
    "    soup = BeautifulSoup(response.content, 'html.parser')\n",
    "    all_data = soup.find_all('div', {'class': 'container'})\n",
    "    all_data = all_data[1]\n",
    "#     gen_data = soup.find('div', {'class': 'md:hidden mt-4'})\n",
    "    gen_data = all_data.find('div', {'class': 'md:bg-white md:px-3 mb-3 md:shadow md:shadow-gray-400 md:rounded border-none md:border'})\n",
    "    print(all_data)\n",
    "    car_blocks = soup.find_all('div',{'class':'card bg-white flex-1'})\n",
    "#     car_blocks = soup.find_all('div',{'class':'grid-item xs-12 sm-12 md-4 lg-3 relative'})\n",
    "    for block in car_blocks:\n",
    "        url = block.find('a')['href']\n",
    "        main_url = \"https://www.classic.com\"+url[:-1]+'?tab=specs'\n",
    "        mileage_url = \"https://www.classic.com\"+url[:-1]+'?tab=history'\n",
    "        comps_url = \"https://www.classic.com\"+url[:-1]+'?tab=comps'\n",
    "        urls.append(main_url)\n",
    "        mileage_urls.append(mileage_url)\n",
    "        comps_urls.append(comps_url)"
   ]
  },
  {
   "cell_type": "code",
   "execution_count": 15,
   "metadata": {},
   "outputs": [
    {
     "name": "stderr",
     "output_type": "stream",
     "text": [
      "  0%|          | 0/3 [00:01<?, ?it/s]\n"
     ]
    },
    {
     "ename": "AttributeError",
     "evalue": "'NoneType' object has no attribute 'find'",
     "output_type": "error",
     "traceback": [
      "\u001b[0;31m---------------------------------------------------------------------------\u001b[0m",
      "\u001b[0;31mAttributeError\u001b[0m                            Traceback (most recent call last)",
      "\u001b[0;32m<ipython-input-15-ac7c53014c50>\u001b[0m in \u001b[0;36m<module>\u001b[0;34m\u001b[0m\n\u001b[1;32m     10\u001b[0m     \u001b[0msoup\u001b[0m \u001b[0;34m=\u001b[0m \u001b[0mBeautifulSoup\u001b[0m\u001b[0;34m(\u001b[0m\u001b[0mresponse\u001b[0m\u001b[0;34m.\u001b[0m\u001b[0mcontent\u001b[0m\u001b[0;34m,\u001b[0m \u001b[0;34m'html.parser'\u001b[0m\u001b[0;34m)\u001b[0m\u001b[0;34m\u001b[0m\u001b[0;34m\u001b[0m\u001b[0m\n\u001b[1;32m     11\u001b[0m     \u001b[0mspecs_tab\u001b[0m \u001b[0;34m=\u001b[0m \u001b[0msoup\u001b[0m\u001b[0;34m.\u001b[0m\u001b[0mfind\u001b[0m\u001b[0;34m(\u001b[0m\u001b[0;34m'div'\u001b[0m\u001b[0;34m,\u001b[0m \u001b[0;34m{\u001b[0m\u001b[0;34m'class'\u001b[0m\u001b[0;34m:\u001b[0m \u001b[0;34m'card bg-white grid grid-flow-row md:grid-flow-col p-4 md:p-8'\u001b[0m\u001b[0;34m}\u001b[0m\u001b[0;34m)\u001b[0m\u001b[0;34m\u001b[0m\u001b[0;34m\u001b[0m\u001b[0m\n\u001b[0;32m---> 12\u001b[0;31m     \u001b[0mblock3\u001b[0m \u001b[0;34m=\u001b[0m \u001b[0mspecs_tab\u001b[0m\u001b[0;34m.\u001b[0m\u001b[0mfind\u001b[0m\u001b[0;34m(\u001b[0m\u001b[0;34m'div'\u001b[0m\u001b[0;34m,\u001b[0m \u001b[0;34m{\u001b[0m\u001b[0;34m'class'\u001b[0m\u001b[0;34m:\u001b[0m \u001b[0;34m'grid-item xs-12 md-3 lg-3'\u001b[0m\u001b[0;34m}\u001b[0m\u001b[0;34m)\u001b[0m\u001b[0;34m\u001b[0m\u001b[0;34m\u001b[0m\u001b[0m\n\u001b[0m\u001b[1;32m     13\u001b[0m     \u001b[0mmain_block\u001b[0m \u001b[0;34m=\u001b[0m \u001b[0msoup\u001b[0m\u001b[0;34m.\u001b[0m\u001b[0mfind\u001b[0m\u001b[0;34m(\u001b[0m\u001b[0;34m'div'\u001b[0m\u001b[0;34m,\u001b[0m \u001b[0;34m{\u001b[0m\u001b[0;34m'class'\u001b[0m\u001b[0;34m:\u001b[0m \u001b[0;34m'grid-item xs-12 md-6 p-4 md:p-8'\u001b[0m\u001b[0;34m}\u001b[0m\u001b[0;34m)\u001b[0m\u001b[0;34m\u001b[0m\u001b[0;34m\u001b[0m\u001b[0m\n\u001b[1;32m     14\u001b[0m     \u001b[0mprice\u001b[0m \u001b[0;34m=\u001b[0m \u001b[0mmain_block\u001b[0m\u001b[0;34m.\u001b[0m\u001b[0mfind\u001b[0m\u001b[0;34m(\u001b[0m\u001b[0;34m'div'\u001b[0m\u001b[0;34m,\u001b[0m \u001b[0;34m{\u001b[0m\u001b[0;34m'class'\u001b[0m\u001b[0;34m:\u001b[0m \u001b[0;34m'space-y-1 mt-4'\u001b[0m\u001b[0;34m}\u001b[0m\u001b[0;34m)\u001b[0m\u001b[0;34m\u001b[0m\u001b[0;34m\u001b[0m\u001b[0m\n",
      "\u001b[0;31mAttributeError\u001b[0m: 'NoneType' object has no attribute 'find'"
     ]
    }
   ],
   "source": [
    "import re\n",
    "from tqdm import trange\n",
    "data=[]\n",
    "titles=[]\n",
    "model_types=[]\n",
    "standard_pattern = r\"(90|110|130)\\s*(.+)?\"\n",
    "for i in trange(3):\n",
    "    url = urls[i]\n",
    "    response = requests.get(url)\n",
    "    soup = BeautifulSoup(response.content, 'html.parser')\n",
    "    specs_tab = soup.find('div', {'class': 'card bg-white grid grid-flow-row md:grid-flow-col p-4 md:p-8'})\n",
    "    block3 = specs_tab.find('div', {'class': 'grid-item xs-12 md-3 lg-3'})\n",
    "    main_block = soup.find('div', {'class': 'grid-item xs-12 md-6 p-4 md:p-8'})\n",
    "    price = main_block.find('div', {'class': 'space-y-1 mt-4'})\n",
    "    status_rough = price.find_all('h3',{'class':'flex text-base items-center'})\n",
    "    status_rough = status_rough[0]\n",
    "    try:\n",
    "        status_final = status_rough.find('span',{'class':'font-medium'}).text.strip()\n",
    "    except:\n",
    "        status_final = status_rough.find('span',{'class':'flex-1'})\n",
    "        status_final = status_final.find('span').text.strip()\n",
    "    if 'sold' in status_final.lower():\n",
    "        ext_color = block3.find('div', {'class':\"py-4 space-y-2\"})\n",
    "        ext_color_draft = ext_color.find_all('div', {'class':\"xs-6 sm-6 md-5 lg-4 font-medium\"})\n",
    "        ext_color_final = ext_color_draft[2].text.strip()\n",
    "        block1 = specs_tab.find('div', {'class': 'grid-item xs-12 md-4 lg-4 border-b-[0.5px] border-gray-300 md:border-0'})\n",
    "        model_variant = block1.find('div', {'class':\"py-4 space-y-2\"})\n",
    "        model_variant_draft = model_variant.find_all('div', {'class':\"xs-6 sm-6 md-5 lg-4 font-medium\"})\n",
    "        model_variant_final = model_variant_draft[2].text.strip()\n",
    "        title = soup.find('h1',{'class':'text-2xl'}).text.strip()\n",
    "        titles.append(title)\n",
    "\n",
    "        year = int(title[:4])\n",
    "        age = 2023-year\n",
    "        match = re.search(standard_pattern, title)\n",
    "        if match:\n",
    "            model_type = match.group(2)\n",
    "            if not model_type:\n",
    "                model_type = 'standard'\n",
    "        model_type.lower()\n",
    "    #     price = main_block.find('div', {'class': 'space-y-1 mt-4'})\n",
    "        price_draft = price.find('h3', {'class':'flex text-base items-center'})\n",
    "        price_element = price_draft.find('div',{'class':'text-green-700 font-medium inline-block'})\n",
    "        price_final = price_element.text.strip() if price_element else ''\n",
    "        price_final = int(re.sub(r'\\D', '', price_final)) if price_final else 0\n",
    "\n",
    "        mileage = price.find_all('h3',{'class':'flex text-base items-center'})\n",
    "        mileage_draft = mileage[2]\n",
    "        mileage_element = mileage_draft.find('span',{'class':'flex-1'})\n",
    "        mileage_text = mileage_element.text.strip()\n",
    "        if 'kilometers' in mileage_text.lower():\n",
    "            i = mileage_text.find('(')\n",
    "            mileage_final = int(re.sub(r'[^\\d.]', '', mileage_text[:i]))\n",
    "            mileage_final *= 0.621371\n",
    "        elif 'miles' not in mileage_text.lower():\n",
    "            mileage_final = 0\n",
    "        else:\n",
    "            mileage_final = int(re.sub(r'[^\\d.]', '', mileage_text))\n",
    "        try:\n",
    "            originality_rough = mileage[5]\n",
    "        except IndexError:\n",
    "            try:\n",
    "                originality_rough = mileage[4]\n",
    "            except IndexError:\n",
    "                originality_rough = mileage[3]\n",
    "        try:\n",
    "            originality_final = originality_rough.find('div',{'class':'flex flex-row w-full'})\n",
    "            originality_final = originality_final.find('span')\n",
    "            originality_final = originality_final.text.strip()\n",
    "        except:\n",
    "            originality_final = 'Restored-Modified'\n",
    "    else:\n",
    "        ext_color = block3.find('div', {'class':\"py-4 space-y-2\"})\n",
    "        ext_color_draft = ext_color.find_all('div', {'class':\"xs-6 sm-6 md-5 lg-4 font-medium\"})\n",
    "        ext_color_final = ext_color_draft[2].text.strip()\n",
    "        block1 = specs_tab.find('div', {'class': 'grid-item xs-12 md-4 lg-4 border-b-[0.5px] border-gray-300 md:border-0'})\n",
    "        model_variant = block1.find('div', {'class':\"py-4 space-y-2\"})\n",
    "        model_variant_draft = model_variant.find_all('div', {'class':\"xs-6 sm-6 md-5 lg-4 font-medium\"})\n",
    "        model_variant_final = model_variant_draft[2].text.strip()\n",
    "        main_block = soup.find('div', {'class': 'grid-item xs-12 md-6 p-4 md:p-8'})\n",
    "        title = soup.find('h1',{'class':'text-2xl'}).text.strip()\n",
    "        titles.append(title)\n",
    "        year = int(title[:4])\n",
    "        age = 2023-year\n",
    "        match = re.search(standard_pattern, title)\n",
    "        if match:\n",
    "            model_type = match.group(2)\n",
    "            if not model_type:\n",
    "                model_type = 'standard'\n",
    "        model_type.lower()\n",
    "        price = main_block.find('div', {'class': 'space-y-1 mt-4'})\n",
    "        price_draft = price.find('h3', {'class':'flex text-base items-center'})\n",
    "        price_element = price_draft.find('div',{'class':'text-black inline-block'})\n",
    "        price_final = price_element.text.strip() if price_element else ''\n",
    "        try:\n",
    "            price_final = int(re.sub(r'\\D', '', price_final))\n",
    "        except ValueError:\n",
    "            price_final = 'comps'   \n",
    "        mileage = price.find_all('h3',{'class':'flex text-base items-center'})\n",
    "        mileage_draft = mileage[2]\n",
    "        mileage_element = mileage_draft.find('span',{'class':'flex-1'})\n",
    "        mileage_text = mileage_element.text.strip()\n",
    "        if 'kilometers' in mileage_text.lower():\n",
    "            i = mileage_text.find('(')\n",
    "            mileage_final = int(re.sub(r'[^\\d.]', '', mileage_text[:i]))\n",
    "            mileage_final *= 0.621371\n",
    "        elif 'miles' not in mileage_text.lower():\n",
    "            mileage_final = 0\n",
    "        else:\n",
    "            mileage_final = int(re.sub(r'[^\\d.]', '', mileage_text))\n",
    "        try:\n",
    "            originality_rough = mileage[5]\n",
    "        except IndexError:\n",
    "            try:\n",
    "                originality_rough = mileage[4]\n",
    "            except IndexError:\n",
    "                originality_rough = mileage[3]\n",
    "        try:\n",
    "            originality_final = originality_rough.find('div',{'class':'flex flex-row w-full'})\n",
    "            originality_final = originality_final.find('span')\n",
    "            originality_final = originality_final.text.strip()\n",
    "        except:\n",
    "            originality_final = 'Restored-Modified'\n",
    "        \n",
    "    data.append([price_final,model_type,model_variant_final,ext_color_final,mileage_final,age,originality_final])"
   ]
  },
  {
   "cell_type": "code",
   "execution_count": 7,
   "metadata": {},
   "outputs": [
    {
     "ename": "ValueError",
     "evalue": "invalid literal for int() with base 10: ''",
     "output_type": "error",
     "traceback": [
      "\u001b[0;31m---------------------------------------------------------------------------\u001b[0m",
      "\u001b[0;31mValueError\u001b[0m                                Traceback (most recent call last)",
      "\u001b[0;32m<ipython-input-7-865cdc997b0c>\u001b[0m in \u001b[0;36m<module>\u001b[0;34m\u001b[0m\n\u001b[1;32m      1\u001b[0m \u001b[0mprice_final\u001b[0m\u001b[0;34m=\u001b[0m\u001b[0;34m''\u001b[0m\u001b[0;34m\u001b[0m\u001b[0;34m\u001b[0m\u001b[0m\n\u001b[0;32m----> 2\u001b[0;31m \u001b[0mprice_final\u001b[0m \u001b[0;34m=\u001b[0m \u001b[0mint\u001b[0m\u001b[0;34m(\u001b[0m\u001b[0mre\u001b[0m\u001b[0;34m.\u001b[0m\u001b[0msub\u001b[0m\u001b[0;34m(\u001b[0m\u001b[0;34mr'\\D'\u001b[0m\u001b[0;34m,\u001b[0m \u001b[0;34m''\u001b[0m\u001b[0;34m,\u001b[0m \u001b[0mprice_final\u001b[0m\u001b[0;34m)\u001b[0m\u001b[0;34m)\u001b[0m\u001b[0;34m\u001b[0m\u001b[0;34m\u001b[0m\u001b[0m\n\u001b[0m\u001b[1;32m      3\u001b[0m \u001b[0mprice_final\u001b[0m\u001b[0;34m\u001b[0m\u001b[0;34m\u001b[0m\u001b[0m\n",
      "\u001b[0;31mValueError\u001b[0m: invalid literal for int() with base 10: ''"
     ]
    }
   ],
   "source": [
    "price_final=''\n",
    "price_final = int(re.sub(r'\\D', '', price_final))\n",
    "price_final"
   ]
  },
  {
   "cell_type": "code",
   "execution_count": 6,
   "metadata": {},
   "outputs": [
    {
     "data": {
      "text/plain": [
       "0         81\n",
       "55000     12\n",
       "35000     10\n",
       "75000      8\n",
       "comps      8\n",
       "          ..\n",
       "130876     1\n",
       "31995      1\n",
       "67900      1\n",
       "40250      1\n",
       "181000     1\n",
       "Name: price_final, Length: 222, dtype: int64"
      ]
     },
     "execution_count": 6,
     "metadata": {},
     "output_type": "execute_result"
    }
   ],
   "source": [
    "df = pd.DataFrame(data, columns=['price_final','model_type','model_variant_final','ext_color_final','mileage_final','age','originality_final'])\n",
    "# df = df[df['price_final'] != 0]\n",
    "df['price_final'].value_counts()"
   ]
  },
  {
   "cell_type": "markdown",
   "metadata": {},
   "source": [
    "# Verifying/Replacing Mileage"
   ]
  },
  {
   "cell_type": "code",
   "execution_count": 19,
   "metadata": {},
   "outputs": [
    {
     "name": "stderr",
     "output_type": "stream",
     "text": [
      "  2%|▏         | 1/60 [00:03<03:55,  3.99s/it]"
     ]
    },
    {
     "name": "stdout",
     "output_type": "stream",
     "text": [
      "63,000 miles   ·\n",
      "63000\n"
     ]
    },
    {
     "name": "stderr",
     "output_type": "stream",
     "text": [
      "\r\n",
      "  3%|▎         | 2/60 [00:06<03:19,  3.44s/it]"
     ]
    },
    {
     "name": "stdout",
     "output_type": "stream",
     "text": [
      "156,000 kilometers (96,934 miles) (TMU) ·\n",
      "96933\n"
     ]
    },
    {
     "name": "stderr",
     "output_type": "stream",
     "text": [
      "\r\n",
      "  5%|▌         | 3/60 [00:08<03:05,  3.25s/it]"
     ]
    },
    {
     "name": "stdout",
     "output_type": "stream",
     "text": [
      "279,000 kilometers (173,363 miles)  ·\n",
      "173362\n"
     ]
    },
    {
     "name": "stderr",
     "output_type": "stream",
     "text": [
      "\r\n",
      "  7%|▋         | 4/60 [00:11<02:49,  3.03s/it]"
     ]
    },
    {
     "name": "stdout",
     "output_type": "stream",
     "text": [
      "103,000 miles   ·\n",
      "103000\n"
     ]
    },
    {
     "name": "stderr",
     "output_type": "stream",
     "text": [
      "\r\n",
      "  8%|▊         | 5/60 [00:12<02:08,  2.34s/it]"
     ]
    },
    {
     "name": "stdout",
     "output_type": "stream",
     "text": [
      "324,000 kilometers (201,324 miles)  ·\n",
      "201324\n"
     ]
    },
    {
     "name": "stderr",
     "output_type": "stream",
     "text": [
      "\r\n",
      " 10%|█         | 6/60 [00:12<01:38,  1.82s/it]"
     ]
    },
    {
     "name": "stdout",
     "output_type": "stream",
     "text": [
      "99,100 miles   ·\n",
      "99100\n"
     ]
    },
    {
     "name": "stderr",
     "output_type": "stream",
     "text": [
      "\r\n",
      " 12%|█▏        | 7/60 [00:14<01:39,  1.88s/it]"
     ]
    },
    {
     "name": "stdout",
     "output_type": "stream",
     "text": [
      "May 20, 2023 ·\n",
      "delete\n"
     ]
    },
    {
     "name": "stderr",
     "output_type": "stream",
     "text": [
      "\r\n",
      " 13%|█▎        | 8/60 [00:17<01:49,  2.11s/it]"
     ]
    },
    {
     "name": "stdout",
     "output_type": "stream",
     "text": [
      "152,000 miles  (TMU) ·\n",
      "152000\n"
     ]
    },
    {
     "name": "stderr",
     "output_type": "stream",
     "text": [
      "\r\n",
      " 15%|█▌        | 9/60 [00:20<01:58,  2.33s/it]"
     ]
    },
    {
     "name": "stdout",
     "output_type": "stream",
     "text": [
      "236,230 kilometers (146,786 miles)  ·\n",
      "146786\n"
     ]
    },
    {
     "name": "stderr",
     "output_type": "stream",
     "text": [
      "\r\n",
      " 17%|█▋        | 10/60 [00:22<02:00,  2.41s/it]"
     ]
    },
    {
     "name": "stdout",
     "output_type": "stream",
     "text": [
      "293,744 kilometers (182,524 miles)  ·\n",
      "182524\n"
     ]
    },
    {
     "name": "stderr",
     "output_type": "stream",
     "text": [
      "\r\n",
      " 18%|█▊        | 11/60 [00:24<01:47,  2.20s/it]"
     ]
    },
    {
     "name": "stdout",
     "output_type": "stream",
     "text": [
      "150,211 kilometers (93,337 miles)  ·\n",
      "93336\n"
     ]
    },
    {
     "name": "stderr",
     "output_type": "stream",
     "text": [
      "\r\n",
      " 20%|██        | 12/60 [00:26<01:42,  2.13s/it]"
     ]
    },
    {
     "name": "stdout",
     "output_type": "stream",
     "text": [
      "121,494 kilometers (75,493 miles)  ·\n",
      "75492\n"
     ]
    },
    {
     "name": "stderr",
     "output_type": "stream",
     "text": [
      "\r\n",
      " 22%|██▏       | 13/60 [00:28<01:43,  2.21s/it]"
     ]
    },
    {
     "name": "stdout",
     "output_type": "stream",
     "text": [
      "109,370 miles   ·\n",
      "109370\n"
     ]
    },
    {
     "name": "stderr",
     "output_type": "stream",
     "text": [
      "\r\n",
      " 23%|██▎       | 14/60 [00:31<01:49,  2.38s/it]"
     ]
    },
    {
     "name": "stdout",
     "output_type": "stream",
     "text": [
      "101,797 miles   ·\n",
      "101797\n"
     ]
    },
    {
     "name": "stderr",
     "output_type": "stream",
     "text": [
      "\r\n",
      " 25%|██▌       | 15/60 [00:34<01:47,  2.38s/it]"
     ]
    },
    {
     "name": "stdout",
     "output_type": "stream",
     "text": [
      "83,000 miles   ·\n",
      "83000\n"
     ]
    },
    {
     "name": "stderr",
     "output_type": "stream",
     "text": [
      "\r\n",
      " 27%|██▋       | 16/60 [00:36<01:44,  2.37s/it]"
     ]
    },
    {
     "name": "stdout",
     "output_type": "stream",
     "text": [
      "217,671 kilometers (135,254 miles)  ·\n",
      "135254\n"
     ]
    },
    {
     "name": "stderr",
     "output_type": "stream",
     "text": [
      "\r\n",
      " 28%|██▊       | 17/60 [00:38<01:41,  2.35s/it]"
     ]
    },
    {
     "name": "stdout",
     "output_type": "stream",
     "text": [
      "191,998 kilometers (119,302 miles)  ·\n",
      "119301\n"
     ]
    },
    {
     "name": "stderr",
     "output_type": "stream",
     "text": [
      "\r\n",
      " 30%|███       | 18/60 [00:41<01:43,  2.47s/it]"
     ]
    },
    {
     "name": "stdout",
     "output_type": "stream",
     "text": [
      "1 miles  (TMU) ·\n",
      "1\n"
     ]
    },
    {
     "name": "stderr",
     "output_type": "stream",
     "text": [
      "\r\n",
      " 32%|███▏      | 19/60 [00:43<01:40,  2.46s/it]"
     ]
    },
    {
     "name": "stdout",
     "output_type": "stream",
     "text": [
      "1 miles  (TMU) ·\n",
      "1\n"
     ]
    },
    {
     "name": "stderr",
     "output_type": "stream",
     "text": [
      "\r\n",
      " 33%|███▎      | 20/60 [00:46<01:35,  2.40s/it]"
     ]
    },
    {
     "name": "stdout",
     "output_type": "stream",
     "text": [
      "138,289 kilometers (85,929 miles)  ·\n",
      "85928\n"
     ]
    },
    {
     "name": "stderr",
     "output_type": "stream",
     "text": [
      "\r\n",
      " 35%|███▌      | 21/60 [00:47<01:25,  2.20s/it]"
     ]
    },
    {
     "name": "stdout",
     "output_type": "stream",
     "text": [
      "6,260 miles   ·\n",
      "6260\n"
     ]
    },
    {
     "name": "stderr",
     "output_type": "stream",
     "text": [
      "\r\n",
      " 37%|███▋      | 22/60 [00:49<01:17,  2.04s/it]"
     ]
    },
    {
     "name": "stdout",
     "output_type": "stream",
     "text": [
      "186,280 miles  (TMU) ·\n",
      "186280\n"
     ]
    },
    {
     "name": "stderr",
     "output_type": "stream",
     "text": [
      "\r\n",
      " 38%|███▊      | 23/60 [00:51<01:15,  2.03s/it]"
     ]
    },
    {
     "name": "stdout",
     "output_type": "stream",
     "text": [
      "119,874 miles   ·\n",
      "119874\n"
     ]
    },
    {
     "name": "stderr",
     "output_type": "stream",
     "text": [
      "\r\n",
      " 40%|████      | 24/60 [00:53<01:12,  2.02s/it]"
     ]
    },
    {
     "name": "stdout",
     "output_type": "stream",
     "text": [
      "325,945 miles  (TMU) ·\n",
      "325945\n"
     ]
    },
    {
     "name": "stderr",
     "output_type": "stream",
     "text": [
      "\r\n",
      " 42%|████▏     | 25/60 [00:56<01:15,  2.14s/it]"
     ]
    },
    {
     "name": "stdout",
     "output_type": "stream",
     "text": [
      "3,000 miles  (TMU) ·\n",
      "3000\n"
     ]
    },
    {
     "name": "stderr",
     "output_type": "stream",
     "text": [
      "\r\n",
      " 43%|████▎     | 26/60 [00:58<01:19,  2.33s/it]"
     ]
    },
    {
     "name": "stdout",
     "output_type": "stream",
     "text": [
      "162,657 miles   ·\n",
      "162657\n"
     ]
    },
    {
     "name": "stderr",
     "output_type": "stream",
     "text": [
      "\r\n",
      " 45%|████▌     | 27/60 [01:00<01:14,  2.24s/it]"
     ]
    },
    {
     "name": "stdout",
     "output_type": "stream",
     "text": [
      "7,770 miles  (TMU) ·\n",
      "7770\n"
     ]
    },
    {
     "name": "stderr",
     "output_type": "stream",
     "text": [
      "\r\n",
      " 47%|████▋     | 28/60 [01:03<01:11,  2.23s/it]"
     ]
    },
    {
     "name": "stdout",
     "output_type": "stream",
     "text": [
      "44,000 miles   ·\n",
      "44000\n"
     ]
    },
    {
     "name": "stderr",
     "output_type": "stream",
     "text": [
      "\r\n",
      " 48%|████▊     | 29/60 [01:05<01:07,  2.16s/it]"
     ]
    },
    {
     "name": "stdout",
     "output_type": "stream",
     "text": [
      "224,996 kilometers (139,806 miles)  ·\n",
      "139805\n"
     ]
    },
    {
     "name": "stderr",
     "output_type": "stream",
     "text": [
      "\r\n",
      " 50%|█████     | 30/60 [01:07<01:06,  2.22s/it]"
     ]
    },
    {
     "name": "stdout",
     "output_type": "stream",
     "text": [
      "276,948 kilometers (172,087 miles)  ·\n",
      "172087\n"
     ]
    },
    {
     "name": "stderr",
     "output_type": "stream",
     "text": [
      "\r\n",
      " 52%|█████▏    | 31/60 [01:11<01:17,  2.66s/it]"
     ]
    },
    {
     "name": "stdout",
     "output_type": "stream",
     "text": [
      "https://www.classic.com/veh/1990-land-rover-defender-90-salldvad8ha473212-WvMglmn?tab=history\n",
      "276,948 kilometers (172,087 miles)  ·\n",
      "172087\n"
     ]
    },
    {
     "name": "stderr",
     "output_type": "stream",
     "text": [
      "\r\n",
      " 53%|█████▎    | 32/60 [01:13<01:14,  2.66s/it]"
     ]
    },
    {
     "name": "stdout",
     "output_type": "stream",
     "text": [
      "24,975 miles   ·\n",
      "24975\n"
     ]
    },
    {
     "name": "stderr",
     "output_type": "stream",
     "text": [
      "\r\n",
      " 55%|█████▌    | 33/60 [01:16<01:08,  2.55s/it]"
     ]
    },
    {
     "name": "stdout",
     "output_type": "stream",
     "text": [
      "6,036 miles  (TMU) ·\n",
      "6036\n"
     ]
    },
    {
     "name": "stderr",
     "output_type": "stream",
     "text": [
      "\r\n",
      " 57%|█████▋    | 34/60 [01:19<01:11,  2.76s/it]"
     ]
    },
    {
     "name": "stdout",
     "output_type": "stream",
     "text": [
      "328,494 kilometers (204,117 miles)  ·\n",
      "204116\n"
     ]
    },
    {
     "name": "stderr",
     "output_type": "stream",
     "text": [
      "\r\n",
      " 58%|█████▊    | 35/60 [01:21<01:07,  2.70s/it]"
     ]
    },
    {
     "name": "stdout",
     "output_type": "stream",
     "text": [
      "69,950 miles   ·\n",
      "69950\n"
     ]
    },
    {
     "name": "stderr",
     "output_type": "stream",
     "text": [
      "\r\n",
      " 60%|██████    | 36/60 [01:24<01:02,  2.60s/it]"
     ]
    },
    {
     "name": "stdout",
     "output_type": "stream",
     "text": [
      "211 miles  (TMU) ·\n",
      "211\n"
     ]
    },
    {
     "name": "stderr",
     "output_type": "stream",
     "text": [
      "\r\n",
      " 62%|██████▏   | 37/60 [01:26<00:59,  2.58s/it]"
     ]
    },
    {
     "name": "stdout",
     "output_type": "stream",
     "text": [
      "168,567 miles   ·\n",
      "168567\n"
     ]
    },
    {
     "name": "stderr",
     "output_type": "stream",
     "text": [
      "\r\n",
      " 63%|██████▎   | 38/60 [01:29<00:54,  2.48s/it]"
     ]
    },
    {
     "name": "stdout",
     "output_type": "stream",
     "text": [
      "305,491 miles   ·\n",
      "305491\n"
     ]
    },
    {
     "name": "stderr",
     "output_type": "stream",
     "text": [
      "\r\n",
      " 65%|██████▌   | 39/60 [01:33<01:01,  2.94s/it]"
     ]
    },
    {
     "name": "stdout",
     "output_type": "stream",
     "text": [
      "https://www.classic.com/veh/1997-land-rover-defender-110-4x4-salldhm68va107672-pGQzw6n?tab=history\n",
      "305,491 miles   ·\n",
      "305491\n"
     ]
    },
    {
     "name": "stderr",
     "output_type": "stream",
     "text": [
      "\r\n",
      " 67%|██████▋   | 40/60 [01:35<00:55,  2.79s/it]"
     ]
    },
    {
     "name": "stdout",
     "output_type": "stream",
     "text": [
      "145 kilometers (90 miles) (TMU) ·\n",
      "90\n"
     ]
    },
    {
     "name": "stderr",
     "output_type": "stream",
     "text": [
      "\r\n",
      " 68%|██████▊   | 41/60 [01:38<00:53,  2.79s/it]"
     ]
    },
    {
     "name": "stdout",
     "output_type": "stream",
     "text": [
      "132,000 miles   ·\n",
      "132000\n"
     ]
    },
    {
     "name": "stderr",
     "output_type": "stream",
     "text": [
      "\r\n",
      " 70%|███████   | 42/60 [01:40<00:48,  2.71s/it]"
     ]
    },
    {
     "name": "stdout",
     "output_type": "stream",
     "text": [
      "209,000 miles   ·\n",
      "209000\n"
     ]
    },
    {
     "name": "stderr",
     "output_type": "stream",
     "text": [
      "\r\n",
      " 72%|███████▏  | 43/60 [01:42<00:39,  2.32s/it]"
     ]
    },
    {
     "name": "stdout",
     "output_type": "stream",
     "text": [
      "1,297 miles  (TMU) ·\n",
      "1297\n"
     ]
    },
    {
     "name": "stderr",
     "output_type": "stream",
     "text": [
      "\r\n",
      " 73%|███████▎  | 44/60 [01:45<00:40,  2.55s/it]"
     ]
    },
    {
     "name": "stdout",
     "output_type": "stream",
     "text": [
      "3 miles  (TMU) ·\n",
      "3\n"
     ]
    },
    {
     "name": "stderr",
     "output_type": "stream",
     "text": [
      "\r\n",
      " 75%|███████▌  | 45/60 [01:47<00:35,  2.35s/it]"
     ]
    },
    {
     "name": "stdout",
     "output_type": "stream",
     "text": [
      "2,334 miles  (TMU) ·\n",
      "2334\n"
     ]
    },
    {
     "name": "stderr",
     "output_type": "stream",
     "text": [
      "\r\n",
      " 77%|███████▋  | 46/60 [01:50<00:38,  2.78s/it]"
     ]
    },
    {
     "name": "stdout",
     "output_type": "stream",
     "text": [
      "14,256 miles  (TMU) ·\n",
      "14256\n"
     ]
    },
    {
     "name": "stderr",
     "output_type": "stream",
     "text": [
      "\r\n",
      " 78%|███████▊  | 47/60 [01:53<00:35,  2.72s/it]"
     ]
    },
    {
     "name": "stdout",
     "output_type": "stream",
     "text": [
      "138,000 miles   ·\n",
      "138000\n"
     ]
    },
    {
     "name": "stderr",
     "output_type": "stream",
     "text": [
      "\r\n",
      " 80%|████████  | 48/60 [01:56<00:32,  2.69s/it]"
     ]
    },
    {
     "name": "stdout",
     "output_type": "stream",
     "text": [
      "110,150 kilometers (68,444 miles)  ·\n",
      "68444\n"
     ]
    },
    {
     "name": "stderr",
     "output_type": "stream",
     "text": [
      "\r\n",
      " 82%|████████▏ | 49/60 [01:59<00:30,  2.77s/it]"
     ]
    },
    {
     "name": "stdout",
     "output_type": "stream",
     "text": [
      "63,400 miles   ·\n",
      "63400\n"
     ]
    },
    {
     "name": "stderr",
     "output_type": "stream",
     "text": [
      "\r\n",
      " 83%|████████▎ | 50/60 [02:01<00:26,  2.63s/it]"
     ]
    },
    {
     "name": "stdout",
     "output_type": "stream",
     "text": [
      "58,125 miles   ·\n",
      "58125\n"
     ]
    },
    {
     "name": "stderr",
     "output_type": "stream",
     "text": [
      "\r\n",
      " 85%|████████▌ | 51/60 [02:05<00:27,  3.00s/it]"
     ]
    },
    {
     "name": "stdout",
     "output_type": "stream",
     "text": [
      "2,603 miles  (TMU) ·\n",
      "2603\n"
     ]
    },
    {
     "name": "stderr",
     "output_type": "stream",
     "text": [
      "\r\n",
      " 87%|████████▋ | 52/60 [02:08<00:25,  3.17s/it]"
     ]
    },
    {
     "name": "stdout",
     "output_type": "stream",
     "text": [
      "510 miles  (TMU) ·\n",
      "510\n"
     ]
    },
    {
     "name": "stderr",
     "output_type": "stream",
     "text": [
      "\r\n",
      " 88%|████████▊ | 53/60 [02:11<00:20,  2.90s/it]"
     ]
    },
    {
     "name": "stdout",
     "output_type": "stream",
     "text": [
      "https://www.classic.com/veh/1990-land-rover-defender-90-salldvad8ha473212-WvMglmn?tab=history\n",
      "510 miles  (TMU) ·\n",
      "510\n"
     ]
    },
    {
     "name": "stderr",
     "output_type": "stream",
     "text": [
      "\r\n",
      " 90%|█████████ | 54/60 [02:13<00:16,  2.73s/it]"
     ]
    },
    {
     "name": "stdout",
     "output_type": "stream",
     "text": [
      "87,129 kilometers (54,139 miles) (TMU) ·\n",
      "54139\n"
     ]
    },
    {
     "name": "stderr",
     "output_type": "stream",
     "text": [
      "\r\n",
      " 92%|█████████▏| 55/60 [02:15<00:12,  2.53s/it]"
     ]
    },
    {
     "name": "stdout",
     "output_type": "stream",
     "text": [
      "87,129 kilometers (54,139 miles) (TMU) ·\n",
      "54139\n"
     ]
    },
    {
     "name": "stderr",
     "output_type": "stream",
     "text": [
      "\r\n",
      " 93%|█████████▎| 56/60 [02:18<00:10,  2.63s/it]"
     ]
    },
    {
     "name": "stdout",
     "output_type": "stream",
     "text": [
      "4,985 miles  (TMU) ·\n",
      "4985\n"
     ]
    },
    {
     "name": "stderr",
     "output_type": "stream",
     "text": [
      "\r\n",
      " 95%|█████████▌| 57/60 [02:21<00:08,  2.67s/it]"
     ]
    },
    {
     "name": "stdout",
     "output_type": "stream",
     "text": [
      "Apr 15, 2023 ·\n",
      "delete\n"
     ]
    },
    {
     "name": "stderr",
     "output_type": "stream",
     "text": [
      "\r\n",
      " 97%|█████████▋| 58/60 [02:23<00:05,  2.67s/it]"
     ]
    },
    {
     "name": "stdout",
     "output_type": "stream",
     "text": [
      "225,000 kilometers (139,808 miles)  ·\n",
      "139808\n"
     ]
    },
    {
     "name": "stderr",
     "output_type": "stream",
     "text": [
      "\r\n",
      " 98%|█████████▊| 59/60 [02:27<00:03,  3.00s/it]"
     ]
    },
    {
     "name": "stdout",
     "output_type": "stream",
     "text": [
      "163,000 kilometers (101,283 miles)  ·\n",
      "101283\n"
     ]
    },
    {
     "name": "stderr",
     "output_type": "stream",
     "text": [
      "100%|██████████| 60/60 [02:30<00:00,  2.50s/it]"
     ]
    },
    {
     "name": "stdout",
     "output_type": "stream",
     "text": [
      "77,577 miles   ·\n",
      "77577\n"
     ]
    },
    {
     "name": "stderr",
     "output_type": "stream",
     "text": [
      "\n"
     ]
    }
   ],
   "source": [
    "import re\n",
    "from tqdm import trange\n",
    "mileage_data=[]\n",
    "\n",
    "for i in trange(60):\n",
    "    url = mileage_urls[i]\n",
    "    response = requests.get(url)\n",
    "    soup = BeautifulSoup(response.content, 'html.parser')\n",
    "    price = soup.find('div', {'class': 'card bg-white p-0 mb-0'})\n",
    "    mileage_block = price.find('div',{'class':'flex flex-col flex-1 justify-center py-4'})\n",
    "    try:\n",
    "        mileage_rough = mileage_block.find_all('span',{'class':'text-gray-500 mr-1'})[1]\n",
    "        mileage_text = mileage_rough.text.strip()\n",
    "        if 'kilometers' in mileage_text.lower():\n",
    "            print(mileage_text)\n",
    "            i = mileage_text.find('(')\n",
    "            mileage_final = int(re.sub(r'[^\\d.]', '', mileage_text[:i]))\n",
    "            mileage_final *= 0.621371\n",
    "            mileage_final = int(mileage_final)\n",
    "        elif 'miles' not in mileage_text.lower():\n",
    "            mileage_rough = mileage_block.find_all('span',{'class':'text-gray-500 mr-1'})\n",
    "            try:\n",
    "                mileage_rough = mileage_rough[0]\n",
    "                mileage_text = mileage_rough.text.strip()\n",
    "                if 'kilometers' in mileage_text.lower():\n",
    "                    i = mileage_text.find('(')\n",
    "                    mileage_final = int(re.sub(r'[^\\d.]', '', mileage_text[:i]))\n",
    "                    mileage_final *= 0.621371\n",
    "                    mileage_final = int(mileage_final)\n",
    "                elif 'miles' in mileage_text.lower():\n",
    "                    mileage_final = int(re.sub(r'[^\\d.]', '', mileage_text))\n",
    "                else:\n",
    "                    mileage_final = 'delete'\n",
    "            except IndexError:\n",
    "                mileage_final = 'delete'\n",
    "        else:\n",
    "            mileage_final = int(re.sub(r'[^\\d.]', '', mileage_text))\n",
    "    except IndexError:\n",
    "        mileage_final = 'delete'\n",
    "    mileage_data.append(mileage_final)"
   ]
  },
  {
   "cell_type": "code",
   "execution_count": 184,
   "metadata": {},
   "outputs": [
    {
     "data": {
      "text/plain": [
       "mileage_data\n",
       "delete          54\n",
       "208000129245     6\n",
       "3000             5\n",
       "98000            4\n",
       "5500034175       4\n",
       "                ..\n",
       "162657           1\n",
       "164560           1\n",
       "165000           1\n",
       "166000           1\n",
       "108600           1\n",
       "Length: 351, dtype: int64"
      ]
     },
     "execution_count": 184,
     "metadata": {},
     "output_type": "execute_result"
    }
   ],
   "source": [
    "df_mileage = pd.DataFrame(mileage_data, columns=['mileage_data'])\n",
    "df_mileage.value_counts()"
   ]
  },
  {
   "cell_type": "code",
   "execution_count": 20,
   "metadata": {},
   "outputs": [],
   "source": [
    "# count=0\n",
    "# for i, miles in enumerate(df_mileage['mileage_data']):\n",
    "#     if miles!='delete':\n",
    "#         miles = float(miles)\n",
    "#         if df.at[i,'mileage_final']!=df_mileage.at[i,'mileage_data']:\n",
    "#             print(df.at[i,'mileage_final'], miles)\n",
    "# #     if len(str(miles))==7:\n",
    "# #         miles = str(miles)\n",
    "# #         miles = int(miles[4:]) \n",
    "# #         df_mileage.at[i,'mileage_data'] = miles\n",
    "# #     elif len(str(miles))==8:\n",
    "# #         count+=1\n",
    "# #         miles = str(miles)\n",
    "# #         miles = int(miles[4:])\n",
    "# #         df_mileage.at[i,'mileage_data'] = miles\n",
    "# #     elif len(str(miles))==9:\n",
    "# #         count+=1\n",
    "# #         miles = str(miles)\n",
    "# #         miles = int(miles[5:])\n",
    "# #         df_mileage.at[i,'mileage_data'] = miles\n",
    "# #     elif len(str(miles))==10:\n",
    "# #         count+=1\n",
    "# #         miles = str(miles)\n",
    "# #         miles = int(miles[5:])\n",
    "# #         df_mileage.at[i,'mileage_data'] = miles\n",
    "# #     elif len(str(miles))==12:\n",
    "# #         count+=1\n",
    "# #         miles = str(miles)\n",
    "# #         try:\n",
    "# #             miles = int(miles[6:])\n",
    "# #         except:\n",
    "# #             print(i,miles)\n",
    "# count"
   ]
  },
  {
   "cell_type": "code",
   "execution_count": 123,
   "metadata": {},
   "outputs": [
    {
     "data": {
      "text/plain": [
       "0.000         206\n",
       "129245.168      6\n",
       "98000.000       4\n",
       "114332.264      3\n",
       "173362.509      3\n",
       "             ... \n",
       "174227.000      1\n",
       "115400.000      1\n",
       "118681.861      1\n",
       "108600.000      1\n",
       "69950.000       1\n",
       "Name: mileage_final, Length: 251, dtype: int64"
      ]
     },
     "execution_count": 123,
     "metadata": {},
     "output_type": "execute_result"
    }
   ],
   "source": [
    "df['mileage_final'].value_counts()"
   ]
  },
  {
   "cell_type": "code",
   "execution_count": 122,
   "metadata": {},
   "outputs": [],
   "source": [
    "df = df.reset_index(drop=True)\n",
    "df_mileage = df_mileage.reset_index(drop=True)"
   ]
  },
  {
   "cell_type": "code",
   "execution_count": 124,
   "metadata": {},
   "outputs": [],
   "source": [
    "# loop through the rows of both data frames\n",
    "for i,mileage in enumerate(df['mileage_final']):   \n",
    "    mileage = str(mileage)\n",
    "    if mileage == '0.0':\n",
    "        if df_mileage.at[i,'mileage_data']=='delete':\n",
    "            df_mileage.at[i,'mileage_data'] = 0\n",
    "        else:\n",
    "            df.at[i, 'mileage_final'] = df_mileage.at[i, 'mileage_data']           "
   ]
  },
  {
   "cell_type": "code",
   "execution_count": 125,
   "metadata": {},
   "outputs": [
    {
     "data": {
      "text/plain": [
       "0.000000         54\n",
       "129245.168000     6\n",
       "3000.000000       5\n",
       "98000.000000      4\n",
       "983712.000000     3\n",
       "                 ..\n",
       "44000.000000      1\n",
       "109361.296000     1\n",
       "93336.759281      1\n",
       "73343.000000      1\n",
       "11806.049000      1\n",
       "Name: mileage_final, Length: 357, dtype: int64"
      ]
     },
     "execution_count": 125,
     "metadata": {},
     "output_type": "execute_result"
    }
   ],
   "source": [
    "df['mileage_final'].value_counts()"
   ]
  },
  {
   "cell_type": "code",
   "execution_count": 126,
   "metadata": {},
   "outputs": [],
   "source": [
    "df = df.reset_index(drop=True)"
   ]
  },
  {
   "cell_type": "markdown",
   "metadata": {
    "scrolled": true
   },
   "source": [
    "# Adding Price to na price_final values using comp>90% "
   ]
  },
  {
   "cell_type": "code",
   "execution_count": 72,
   "metadata": {},
   "outputs": [
    {
     "name": "stderr",
     "output_type": "stream",
     "text": [
      " 12%|█▏        | 61/524 [02:20<17:10,  2.22s/it]"
     ]
    },
    {
     "name": "stdout",
     "output_type": "stream",
     "text": [
      "https://www.classic.com/veh/2023-land-rover-defender-130-first-edition-salevfe-n2PAwop?tab=comps\n"
     ]
    },
    {
     "name": "stderr",
     "output_type": "stream",
     "text": [
      " 40%|████      | 210/524 [08:19<13:32,  2.59s/it]"
     ]
    },
    {
     "name": "stdout",
     "output_type": "stream",
     "text": [
      "https://www.classic.com/veh/1991-land-rover-defender-110-salldhmd8ff801486-WxjNwa4?tab=comps\n"
     ]
    },
    {
     "name": "stderr",
     "output_type": "stream",
     "text": [
      " 49%|████▉     | 259/524 [10:23<10:42,  2.43s/it]"
     ]
    },
    {
     "name": "stdout",
     "output_type": "stream",
     "text": [
      "https://www.classic.com/veh/1994-land-rover-defender-90-nas-5-speed-saldv2282r-nB1rJ94?tab=comps\n"
     ]
    },
    {
     "name": "stderr",
     "output_type": "stream",
     "text": [
      " 51%|█████     | 265/524 [10:39<11:05,  2.57s/it]"
     ]
    },
    {
     "name": "stdout",
     "output_type": "stream",
     "text": [
      "https://www.classic.com/veh/1994-land-rover-defender-90-nas-5-speed-saldv2282r-nB1rJ94?tab=comps\n"
     ]
    },
    {
     "name": "stderr",
     "output_type": "stream",
     "text": [
      " 51%|█████     | 268/524 [10:45<10:01,  2.35s/it]"
     ]
    },
    {
     "name": "stdout",
     "output_type": "stream",
     "text": [
      "https://www.classic.com/veh/1995-land-rover-nas-defender-90-station-wagon-3025-WYgd5A4?tab=comps\n"
     ]
    },
    {
     "name": "stderr",
     "output_type": "stream",
     "text": [
      " 66%|██████▌   | 346/524 [14:01<06:41,  2.26s/it]"
     ]
    },
    {
     "name": "stdout",
     "output_type": "stream",
     "text": [
      "https://www.classic.com/veh/1994-land-rover-nas-defender-90-convertible-saldv2-nBX059p?tab=comps\n"
     ]
    },
    {
     "name": "stderr",
     "output_type": "stream",
     "text": [
      " 90%|████████▉ | 471/524 [18:58<02:08,  2.42s/it]"
     ]
    },
    {
     "name": "stdout",
     "output_type": "stream",
     "text": [
      "https://www.classic.com/veh/1987-land-rover-defender-90-salldvab8aa284531-WkPZRlp?tab=comps\n"
     ]
    },
    {
     "name": "stderr",
     "output_type": "stream",
     "text": [
      " 98%|█████████▊| 514/524 [20:36<00:21,  2.14s/it]"
     ]
    },
    {
     "name": "stdout",
     "output_type": "stream",
     "text": [
      "https://www.classic.com/veh/1994-land-rover-defender-90-nas-5-speed-saldv2282r-nB1rJ94?tab=comps\n"
     ]
    },
    {
     "name": "stderr",
     "output_type": "stream",
     "text": [
      "100%|██████████| 524/524 [21:00<00:00,  2.41s/it]\n"
     ]
    }
   ],
   "source": [
    "import re\n",
    "from tqdm import trange\n",
    "comp_price_data=[]\n",
    "\n",
    "for i in trange(len(comps_urls)-1):\n",
    "    url = comps_urls[i]\n",
    "    response = requests.get(url)\n",
    "    soup = BeautifulSoup(response.content, 'html.parser')\n",
    "    main_block = soup.find('div', {'class': 'grid-item xs-12 md-6 p-4 md:p-8'})\n",
    "\n",
    "    price = soup.find('div', {'class': 'card bg-white p-0 mb-0'})\n",
    "    price = main_block.find('div', {'class': 'space-y-1 mt-4'})\n",
    "    price_draft = price.find('h3', {'class':'flex text-base items-center'})\n",
    "    price_element = price_draft.find('div',{'class':'text-black inline-block'})\n",
    "    price_final = price_element.text.strip() if price_element else ''\n",
    "    try:\n",
    "        price_final = int(re.sub(r'\\D', '', price_final))\n",
    "    except ValueError:\n",
    "        price_final = 'comps'\n",
    "    if price_final == 'comps':\n",
    "        big_block = soup.find('div',{'class':'flex flex-col divide-y divide-gray-200'})\n",
    "        comps_block = big_block.find_all('div', {'class':'duration-1000 px-2 py-2'})\n",
    "        comps_block = comps_block[0]\n",
    "        relevance_score = comps_block.find('div',{'class':'flex flex-row items-center justify-right md:hidden'})\n",
    "        relevance_score_draft = relevance_score.find('div',{'class':'shadow-none flex flex-col text-center whitespace-nowrap text-white justify-center bg-gray-800'})\n",
    "        relevance_score_final = relevance_score_draft.get('style')\n",
    "        relevance_score_final = float(relevance_score_final.split(':')[1].strip('%'))\n",
    "        if relevance_score_final>90:\n",
    "            comps_price = big_block.find('div',{'class':'flex flex-col xs-8 justify-center flex-1 ml-4'})\n",
    "            comps_price_draft = comps_price.find('div',{'class':'text-black inline-block'})\n",
    "            comps_price_final = comps_price.find('div',{'class':'text-green-700 font-medium inline-block'})\n",
    "            if comps_price_final!=None:\n",
    "                price_final = float((comps_price_final.text.strip()).replace(',', '').replace('$', ''))\n",
    "            else:\n",
    "                try:\n",
    "                    comps_price_final = comps_price_draft.find_all('span')[1]\n",
    "                    comps_price_final = comps_price_final.text.strip().replace(',', '').replace('$', '').replace('.','').strip()\n",
    "                    price_final = float(comps_price_final[8:])\n",
    "                except:\n",
    "                    price_final = 0\n",
    "                    print(url)\n",
    "        else:\n",
    "            price_final = 0\n",
    "    comp_price_data.append(price_final)"
   ]
  },
  {
   "cell_type": "code",
   "execution_count": 127,
   "metadata": {},
   "outputs": [
    {
     "data": {
      "text/html": [
       "<div>\n",
       "<style scoped>\n",
       "    .dataframe tbody tr th:only-of-type {\n",
       "        vertical-align: middle;\n",
       "    }\n",
       "\n",
       "    .dataframe tbody tr th {\n",
       "        vertical-align: top;\n",
       "    }\n",
       "\n",
       "    .dataframe thead th {\n",
       "        text-align: right;\n",
       "    }\n",
       "</style>\n",
       "<table border=\"1\" class=\"dataframe\">\n",
       "  <thead>\n",
       "    <tr style=\"text-align: right;\">\n",
       "      <th></th>\n",
       "      <th>comp_price_data</th>\n",
       "    </tr>\n",
       "  </thead>\n",
       "  <tbody>\n",
       "    <tr>\n",
       "      <th>0</th>\n",
       "      <td>49990.0</td>\n",
       "    </tr>\n",
       "    <tr>\n",
       "      <th>1</th>\n",
       "      <td>91500.0</td>\n",
       "    </tr>\n",
       "    <tr>\n",
       "      <th>2</th>\n",
       "      <td>88995.0</td>\n",
       "    </tr>\n",
       "    <tr>\n",
       "      <th>3</th>\n",
       "      <td>57999.0</td>\n",
       "    </tr>\n",
       "    <tr>\n",
       "      <th>4</th>\n",
       "      <td>112000.0</td>\n",
       "    </tr>\n",
       "    <tr>\n",
       "      <th>...</th>\n",
       "      <td>...</td>\n",
       "    </tr>\n",
       "    <tr>\n",
       "      <th>519</th>\n",
       "      <td>53000.0</td>\n",
       "    </tr>\n",
       "    <tr>\n",
       "      <th>520</th>\n",
       "      <td>50600.0</td>\n",
       "    </tr>\n",
       "    <tr>\n",
       "      <th>521</th>\n",
       "      <td>60480.0</td>\n",
       "    </tr>\n",
       "    <tr>\n",
       "      <th>522</th>\n",
       "      <td>65000.0</td>\n",
       "    </tr>\n",
       "    <tr>\n",
       "      <th>523</th>\n",
       "      <td>96800.0</td>\n",
       "    </tr>\n",
       "  </tbody>\n",
       "</table>\n",
       "<p>524 rows × 1 columns</p>\n",
       "</div>"
      ],
      "text/plain": [
       "     comp_price_data\n",
       "0            49990.0\n",
       "1            91500.0\n",
       "2            88995.0\n",
       "3            57999.0\n",
       "4           112000.0\n",
       "..               ...\n",
       "519          53000.0\n",
       "520          50600.0\n",
       "521          60480.0\n",
       "522          65000.0\n",
       "523          96800.0\n",
       "\n",
       "[524 rows x 1 columns]"
      ]
     },
     "execution_count": 127,
     "metadata": {},
     "output_type": "execute_result"
    }
   ],
   "source": [
    "df_comp_price = pd.DataFrame(comp_price_data, columns=['comp_price_data'])\n",
    "df_comp_price"
   ]
  },
  {
   "cell_type": "code",
   "execution_count": 136,
   "metadata": {},
   "outputs": [],
   "source": [
    "for i,price in enumerate(df['price_final']):\n",
    "    df.at[i,'price_final'] = df_comp_price.at[i,'comp_price_data']"
   ]
  },
  {
   "cell_type": "code",
   "execution_count": 138,
   "metadata": {},
   "outputs": [
    {
     "data": {
      "text/plain": [
       "0.0         38\n",
       "55000.0     12\n",
       "35000.0     10\n",
       "66000.0      9\n",
       "73000.0      8\n",
       "            ..\n",
       "187000.0     1\n",
       "128800.0     1\n",
       "36100.0      1\n",
       "47100.0      1\n",
       "132222.0     1\n",
       "Name: price_final, Length: 224, dtype: int64"
      ]
     },
     "execution_count": 138,
     "metadata": {},
     "output_type": "execute_result"
    }
   ],
   "source": [
    "df['price_final'].value_counts()"
   ]
  },
  {
   "cell_type": "code",
   "execution_count": 139,
   "metadata": {},
   "outputs": [],
   "source": [
    "df = df.reset_index(drop=True)"
   ]
  },
  {
   "cell_type": "code",
   "execution_count": 140,
   "metadata": {
    "scrolled": false
   },
   "outputs": [
    {
     "data": {
      "text/html": [
       "<div>\n",
       "<style scoped>\n",
       "    .dataframe tbody tr th:only-of-type {\n",
       "        vertical-align: middle;\n",
       "    }\n",
       "\n",
       "    .dataframe tbody tr th {\n",
       "        vertical-align: top;\n",
       "    }\n",
       "\n",
       "    .dataframe thead th {\n",
       "        text-align: right;\n",
       "    }\n",
       "</style>\n",
       "<table border=\"1\" class=\"dataframe\">\n",
       "  <thead>\n",
       "    <tr style=\"text-align: right;\">\n",
       "      <th></th>\n",
       "      <th>price_final</th>\n",
       "      <th>model_type</th>\n",
       "      <th>model_variant_final</th>\n",
       "      <th>ext_color_final</th>\n",
       "      <th>mileage_final</th>\n",
       "      <th>age</th>\n",
       "      <th>originality_final</th>\n",
       "    </tr>\n",
       "  </thead>\n",
       "  <tbody>\n",
       "    <tr>\n",
       "      <th>0</th>\n",
       "      <td>49990</td>\n",
       "      <td>Land Rover Defender 90</td>\n",
       "      <td>90 Hard Top</td>\n",
       "      <td>Gray</td>\n",
       "      <td>0.000000e+00</td>\n",
       "      <td>33</td>\n",
       "      <td>Restored-Modified</td>\n",
       "    </tr>\n",
       "    <tr>\n",
       "      <th>1</th>\n",
       "      <td>91500</td>\n",
       "      <td>NAS 5-Speed</td>\n",
       "      <td>90 Soft Top</td>\n",
       "      <td>Green</td>\n",
       "      <td>6.300000e+04</td>\n",
       "      <td>28</td>\n",
       "      <td>Original &amp; Highly Original</td>\n",
       "    </tr>\n",
       "    <tr>\n",
       "      <th>2</th>\n",
       "      <td>88995</td>\n",
       "      <td>5-Speed</td>\n",
       "      <td>110 Hard Top</td>\n",
       "      <td>Blue</td>\n",
       "      <td>1.560010e+10</td>\n",
       "      <td>31</td>\n",
       "      <td>Restored-Modified</td>\n",
       "    </tr>\n",
       "    <tr>\n",
       "      <th>3</th>\n",
       "      <td>57999</td>\n",
       "      <td>300TDI 5-Speed</td>\n",
       "      <td>110 Wagon</td>\n",
       "      <td>Blue</td>\n",
       "      <td>1.733625e+05</td>\n",
       "      <td>27</td>\n",
       "      <td>Restored-Original</td>\n",
       "    </tr>\n",
       "    <tr>\n",
       "      <th>4</th>\n",
       "      <td>112000</td>\n",
       "      <td>5-Speed</td>\n",
       "      <td>90 Soft Top</td>\n",
       "      <td>Black</td>\n",
       "      <td>1.030000e+05</td>\n",
       "      <td>29</td>\n",
       "      <td>Restored-Original</td>\n",
       "    </tr>\n",
       "    <tr>\n",
       "      <th>...</th>\n",
       "      <td>...</td>\n",
       "      <td>...</td>\n",
       "      <td>...</td>\n",
       "      <td>...</td>\n",
       "      <td>...</td>\n",
       "      <td>...</td>\n",
       "      <td>...</td>\n",
       "    </tr>\n",
       "    <tr>\n",
       "      <th>519</th>\n",
       "      <td>53000</td>\n",
       "      <td>2.0L Mpi</td>\n",
       "      <td>90 Soft Top</td>\n",
       "      <td>Blue</td>\n",
       "      <td>1.323520e+05</td>\n",
       "      <td>28</td>\n",
       "      <td>Restomod &amp; Custom</td>\n",
       "    </tr>\n",
       "    <tr>\n",
       "      <th>520</th>\n",
       "      <td>50600</td>\n",
       "      <td>Country Station Wagon</td>\n",
       "      <td>110 Wagon</td>\n",
       "      <td>Green</td>\n",
       "      <td>5.355800e+04</td>\n",
       "      <td>40</td>\n",
       "      <td>Restored-Modified</td>\n",
       "    </tr>\n",
       "    <tr>\n",
       "      <th>521</th>\n",
       "      <td>60480</td>\n",
       "      <td>NAS</td>\n",
       "      <td>90 Soft Top</td>\n",
       "      <td>Yellow</td>\n",
       "      <td>0.000000e+00</td>\n",
       "      <td>29</td>\n",
       "      <td>Original &amp; Highly Original</td>\n",
       "    </tr>\n",
       "    <tr>\n",
       "      <th>522</th>\n",
       "      <td>65000</td>\n",
       "      <td>Land Rover Defender 110</td>\n",
       "      <td>110 Wagon</td>\n",
       "      <td>White</td>\n",
       "      <td>3.417540e+04</td>\n",
       "      <td>33</td>\n",
       "      <td>Restored</td>\n",
       "    </tr>\n",
       "    <tr>\n",
       "      <th>523</th>\n",
       "      <td>96800</td>\n",
       "      <td>NAS</td>\n",
       "      <td>90 Soft Top</td>\n",
       "      <td>White</td>\n",
       "      <td>7.500000e+04</td>\n",
       "      <td>29</td>\n",
       "      <td>Original &amp; Highly Original</td>\n",
       "    </tr>\n",
       "  </tbody>\n",
       "</table>\n",
       "<p>524 rows × 7 columns</p>\n",
       "</div>"
      ],
      "text/plain": [
       "    price_final               model_type model_variant_final ext_color_final  \\\n",
       "0         49990   Land Rover Defender 90         90 Hard Top            Gray   \n",
       "1         91500              NAS 5-Speed         90 Soft Top           Green   \n",
       "2         88995                  5-Speed        110 Hard Top            Blue   \n",
       "3         57999           300TDI 5-Speed           110 Wagon            Blue   \n",
       "4        112000                  5-Speed         90 Soft Top           Black   \n",
       "..          ...                      ...                 ...             ...   \n",
       "519       53000                 2.0L Mpi         90 Soft Top            Blue   \n",
       "520       50600    Country Station Wagon           110 Wagon           Green   \n",
       "521       60480                      NAS         90 Soft Top          Yellow   \n",
       "522       65000  Land Rover Defender 110           110 Wagon           White   \n",
       "523       96800                      NAS         90 Soft Top           White   \n",
       "\n",
       "     mileage_final  age           originality_final  \n",
       "0     0.000000e+00   33           Restored-Modified  \n",
       "1     6.300000e+04   28  Original & Highly Original  \n",
       "2     1.560010e+10   31           Restored-Modified  \n",
       "3     1.733625e+05   27           Restored-Original  \n",
       "4     1.030000e+05   29           Restored-Original  \n",
       "..             ...  ...                         ...  \n",
       "519   1.323520e+05   28           Restomod & Custom  \n",
       "520   5.355800e+04   40           Restored-Modified  \n",
       "521   0.000000e+00   29  Original & Highly Original  \n",
       "522   3.417540e+04   33                    Restored  \n",
       "523   7.500000e+04   29  Original & Highly Original  \n",
       "\n",
       "[524 rows x 7 columns]"
      ]
     },
     "execution_count": 140,
     "metadata": {},
     "output_type": "execute_result"
    }
   ],
   "source": [
    "df"
   ]
  },
  {
   "cell_type": "code",
   "execution_count": 146,
   "metadata": {},
   "outputs": [],
   "source": [
    "df = df.drop(df[(df['price_final'] == 0) & (df['mileage_final'] == 0)].index)"
   ]
  },
  {
   "cell_type": "code",
   "execution_count": 147,
   "metadata": {},
   "outputs": [],
   "source": [
    "df = df.drop(df.loc[df['price_final'] == 0].index)"
   ]
  },
  {
   "cell_type": "code",
   "execution_count": 148,
   "metadata": {},
   "outputs": [],
   "source": [
    "df = df.reset_index(drop=True)"
   ]
  },
  {
   "cell_type": "code",
   "execution_count": 22,
   "metadata": {},
   "outputs": [
    {
     "ename": "NameError",
     "evalue": "name 'df' is not defined",
     "output_type": "error",
     "traceback": [
      "\u001b[0;31m---------------------------------------------------------------------------\u001b[0m",
      "\u001b[0;31mNameError\u001b[0m                                 Traceback (most recent call last)",
      "\u001b[0;32m<ipython-input-22-cfd31eba2f6d>\u001b[0m in \u001b[0;36m<module>\u001b[0;34m\u001b[0m\n\u001b[0;32m----> 1\u001b[0;31m \u001b[0;32mfor\u001b[0m \u001b[0mi\u001b[0m\u001b[0;34m,\u001b[0m\u001b[0mmile\u001b[0m \u001b[0;32min\u001b[0m \u001b[0menumerate\u001b[0m\u001b[0;34m(\u001b[0m\u001b[0mdf\u001b[0m\u001b[0;34m[\u001b[0m\u001b[0;34m'mileage_final'\u001b[0m\u001b[0;34m]\u001b[0m\u001b[0;34m)\u001b[0m\u001b[0;34m:\u001b[0m\u001b[0;34m\u001b[0m\u001b[0;34m\u001b[0m\u001b[0m\n\u001b[0m\u001b[1;32m      2\u001b[0m     \u001b[0;32mif\u001b[0m \u001b[0mmile\u001b[0m\u001b[0;34m>\u001b[0m\u001b[0;36m300000\u001b[0m\u001b[0;34m:\u001b[0m\u001b[0;34m\u001b[0m\u001b[0;34m\u001b[0m\u001b[0m\n\u001b[1;32m      3\u001b[0m         \u001b[0mprint\u001b[0m\u001b[0;34m(\u001b[0m\u001b[0mmile\u001b[0m\u001b[0;34m)\u001b[0m\u001b[0;34m\u001b[0m\u001b[0;34m\u001b[0m\u001b[0m\n",
      "\u001b[0;31mNameError\u001b[0m: name 'df' is not defined"
     ]
    }
   ],
   "source": [
    "for i,mile in enumerate(df['mileage_final']):\n",
    "    if mile>300000:\n",
    "        print(mile)"
   ]
  },
  {
   "cell_type": "code",
   "execution_count": 149,
   "metadata": {},
   "outputs": [
    {
     "data": {
      "text/html": [
       "<div>\n",
       "<style scoped>\n",
       "    .dataframe tbody tr th:only-of-type {\n",
       "        vertical-align: middle;\n",
       "    }\n",
       "\n",
       "    .dataframe tbody tr th {\n",
       "        vertical-align: top;\n",
       "    }\n",
       "\n",
       "    .dataframe thead th {\n",
       "        text-align: right;\n",
       "    }\n",
       "</style>\n",
       "<table border=\"1\" class=\"dataframe\">\n",
       "  <thead>\n",
       "    <tr style=\"text-align: right;\">\n",
       "      <th></th>\n",
       "      <th>price_final</th>\n",
       "      <th>model_type</th>\n",
       "      <th>model_variant_final</th>\n",
       "      <th>ext_color_final</th>\n",
       "      <th>mileage_final</th>\n",
       "      <th>age</th>\n",
       "      <th>originality_final</th>\n",
       "    </tr>\n",
       "  </thead>\n",
       "  <tbody>\n",
       "    <tr>\n",
       "      <th>0</th>\n",
       "      <td>49990</td>\n",
       "      <td>Land Rover Defender 90</td>\n",
       "      <td>90 Hard Top</td>\n",
       "      <td>Gray</td>\n",
       "      <td>0.000000e+00</td>\n",
       "      <td>33</td>\n",
       "      <td>Restored-Modified</td>\n",
       "    </tr>\n",
       "    <tr>\n",
       "      <th>1</th>\n",
       "      <td>91500</td>\n",
       "      <td>NAS 5-Speed</td>\n",
       "      <td>90 Soft Top</td>\n",
       "      <td>Green</td>\n",
       "      <td>6.300000e+04</td>\n",
       "      <td>28</td>\n",
       "      <td>Original &amp; Highly Original</td>\n",
       "    </tr>\n",
       "    <tr>\n",
       "      <th>2</th>\n",
       "      <td>88995</td>\n",
       "      <td>5-Speed</td>\n",
       "      <td>110 Hard Top</td>\n",
       "      <td>Blue</td>\n",
       "      <td>1.560010e+10</td>\n",
       "      <td>31</td>\n",
       "      <td>Restored-Modified</td>\n",
       "    </tr>\n",
       "    <tr>\n",
       "      <th>3</th>\n",
       "      <td>57999</td>\n",
       "      <td>300TDI 5-Speed</td>\n",
       "      <td>110 Wagon</td>\n",
       "      <td>Blue</td>\n",
       "      <td>1.733625e+05</td>\n",
       "      <td>27</td>\n",
       "      <td>Restored-Original</td>\n",
       "    </tr>\n",
       "    <tr>\n",
       "      <th>4</th>\n",
       "      <td>112000</td>\n",
       "      <td>5-Speed</td>\n",
       "      <td>90 Soft Top</td>\n",
       "      <td>Black</td>\n",
       "      <td>1.030000e+05</td>\n",
       "      <td>29</td>\n",
       "      <td>Restored-Original</td>\n",
       "    </tr>\n",
       "    <tr>\n",
       "      <th>...</th>\n",
       "      <td>...</td>\n",
       "      <td>...</td>\n",
       "      <td>...</td>\n",
       "      <td>...</td>\n",
       "      <td>...</td>\n",
       "      <td>...</td>\n",
       "      <td>...</td>\n",
       "    </tr>\n",
       "    <tr>\n",
       "      <th>481</th>\n",
       "      <td>53000</td>\n",
       "      <td>2.0L Mpi</td>\n",
       "      <td>90 Soft Top</td>\n",
       "      <td>Blue</td>\n",
       "      <td>1.323520e+05</td>\n",
       "      <td>28</td>\n",
       "      <td>Restomod &amp; Custom</td>\n",
       "    </tr>\n",
       "    <tr>\n",
       "      <th>482</th>\n",
       "      <td>50600</td>\n",
       "      <td>Country Station Wagon</td>\n",
       "      <td>110 Wagon</td>\n",
       "      <td>Green</td>\n",
       "      <td>5.355800e+04</td>\n",
       "      <td>40</td>\n",
       "      <td>Restored-Modified</td>\n",
       "    </tr>\n",
       "    <tr>\n",
       "      <th>483</th>\n",
       "      <td>60480</td>\n",
       "      <td>NAS</td>\n",
       "      <td>90 Soft Top</td>\n",
       "      <td>Yellow</td>\n",
       "      <td>0.000000e+00</td>\n",
       "      <td>29</td>\n",
       "      <td>Original &amp; Highly Original</td>\n",
       "    </tr>\n",
       "    <tr>\n",
       "      <th>484</th>\n",
       "      <td>65000</td>\n",
       "      <td>Land Rover Defender 110</td>\n",
       "      <td>110 Wagon</td>\n",
       "      <td>White</td>\n",
       "      <td>3.417540e+04</td>\n",
       "      <td>33</td>\n",
       "      <td>Restored</td>\n",
       "    </tr>\n",
       "    <tr>\n",
       "      <th>485</th>\n",
       "      <td>96800</td>\n",
       "      <td>NAS</td>\n",
       "      <td>90 Soft Top</td>\n",
       "      <td>White</td>\n",
       "      <td>7.500000e+04</td>\n",
       "      <td>29</td>\n",
       "      <td>Original &amp; Highly Original</td>\n",
       "    </tr>\n",
       "  </tbody>\n",
       "</table>\n",
       "<p>486 rows × 7 columns</p>\n",
       "</div>"
      ],
      "text/plain": [
       "    price_final               model_type model_variant_final ext_color_final  \\\n",
       "0         49990   Land Rover Defender 90         90 Hard Top            Gray   \n",
       "1         91500              NAS 5-Speed         90 Soft Top           Green   \n",
       "2         88995                  5-Speed        110 Hard Top            Blue   \n",
       "3         57999           300TDI 5-Speed           110 Wagon            Blue   \n",
       "4        112000                  5-Speed         90 Soft Top           Black   \n",
       "..          ...                      ...                 ...             ...   \n",
       "481       53000                 2.0L Mpi         90 Soft Top            Blue   \n",
       "482       50600    Country Station Wagon           110 Wagon           Green   \n",
       "483       60480                      NAS         90 Soft Top          Yellow   \n",
       "484       65000  Land Rover Defender 110           110 Wagon           White   \n",
       "485       96800                      NAS         90 Soft Top           White   \n",
       "\n",
       "     mileage_final  age           originality_final  \n",
       "0     0.000000e+00   33           Restored-Modified  \n",
       "1     6.300000e+04   28  Original & Highly Original  \n",
       "2     1.560010e+10   31           Restored-Modified  \n",
       "3     1.733625e+05   27           Restored-Original  \n",
       "4     1.030000e+05   29           Restored-Original  \n",
       "..             ...  ...                         ...  \n",
       "481   1.323520e+05   28           Restomod & Custom  \n",
       "482   5.355800e+04   40           Restored-Modified  \n",
       "483   0.000000e+00   29  Original & Highly Original  \n",
       "484   3.417540e+04   33                    Restored  \n",
       "485   7.500000e+04   29  Original & Highly Original  \n",
       "\n",
       "[486 rows x 7 columns]"
      ]
     },
     "execution_count": 149,
     "metadata": {},
     "output_type": "execute_result"
    }
   ],
   "source": [
    "df"
   ]
  },
  {
   "cell_type": "code",
   "execution_count": 150,
   "metadata": {},
   "outputs": [],
   "source": [
    "df.to_csv('updated_classic_defender.csv', index=False)"
   ]
  }
 ],
 "metadata": {
  "kernelspec": {
   "display_name": "Python 3",
   "language": "python",
   "name": "python3"
  },
  "language_info": {
   "codemirror_mode": {
    "name": "ipython",
    "version": 3
   },
   "file_extension": ".py",
   "mimetype": "text/x-python",
   "name": "python",
   "nbconvert_exporter": "python",
   "pygments_lexer": "ipython3",
   "version": "3.8.5"
  }
 },
 "nbformat": 4,
 "nbformat_minor": 4
}
